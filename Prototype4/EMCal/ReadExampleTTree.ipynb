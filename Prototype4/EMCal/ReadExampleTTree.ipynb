{
 "cells": [
  {
   "cell_type": "code",
   "execution_count": 1,
   "id": "f397bebe-0010-4aa2-964d-6639e1a6bbf7",
   "metadata": {},
   "outputs": [],
   "source": [
    "# imports to write dynamic markdown contents\n",
    "import os\n",
    "from IPython.display import display, Markdown, Latex\n",
    "from IPython.display import HTML"
   ]
  },
  {
   "cell_type": "code",
   "execution_count": 2,
   "id": "dcd177c5-86be-4f66-bb1d-5a7c447e9118",
   "metadata": {},
   "outputs": [
    {
     "data": {
      "text/markdown": [
       "*For the result HTML page:* "
      ],
      "text/plain": [
       "<IPython.core.display.Markdown object>"
      ]
     },
     "metadata": {},
     "output_type": "display_data"
    },
    {
     "data": {
      "text/html": [
       "<script>\n",
       "code_show=false; \n",
       "function code_toggle() {\n",
       " if (code_show){\n",
       " $('div.input').hide();\n",
       " } else {\n",
       " $('div.input').show();\n",
       " }\n",
       " code_show = !code_show\n",
       "} \n",
       "$( document ).ready(code_toggle);\n",
       "</script>\n",
       "<form action=\"javascript:code_toggle()\"><input type=\"submit\" value=\"Click here to toggle on/off the raw code.\"></form>"
      ],
      "text/plain": [
       "<IPython.core.display.HTML object>"
      ]
     },
     "execution_count": 2,
     "metadata": {},
     "output_type": "execute_result"
    }
   ],
   "source": [
    "# turn off/on code for the result HTML page\n",
    "\n",
    "display(Markdown('*For the result HTML page:* '))\n",
    "    \n",
    "HTML('''<script>\n",
    "code_show=false; \n",
    "function code_toggle() {\n",
    " if (code_show){\n",
    " $('div.input').hide();\n",
    " } else {\n",
    " $('div.input').show();\n",
    " }\n",
    " code_show = !code_show\n",
    "} \n",
    "$( document ).ready(code_toggle);\n",
    "</script>\n",
    "<form action=\"javascript:code_toggle()\"><input type=\"submit\" value=\"Click here to toggle on/off the raw code.\"></form>''')"
   ]
  },
  {
   "cell_type": "code",
   "execution_count": 3,
   "id": "d97df479-e3f0-4d8f-96b3-ea1618d1bede",
   "metadata": {},
   "outputs": [],
   "source": [
    "import uproot\n",
    "\n",
    "import pandas as pd\n",
    "import os\n",
    "import matplotlib.pyplot as plt\n",
    "import matplotlib as mpl\n",
    "import matplotlib.colors\n",
    "import numpy as np\n",
    "import glob\n",
    "mpl.style.use('seaborn-talk')"
   ]
  },
  {
   "cell_type": "markdown",
   "id": "a533c964-9597-40aa-ba85-d69b88ffdcb9",
   "metadata": {},
   "source": [
    "# Open an example file"
   ]
  },
  {
   "cell_type": "code",
   "execution_count": 4,
   "id": "c0dade78-94ae-439e-b0b4-8b0be80da6dd",
   "metadata": {},
   "outputs": [],
   "source": [
    "file = uproot.open(\"/sphenix/user/trinn/forcsi/testtrainingfile.root\")\n",
    "\n",
    "n_channel_per_event = 64"
   ]
  },
  {
   "cell_type": "markdown",
   "id": "55cfd0d3-4ac6-401a-b73a-4df3f814356d",
   "metadata": {},
   "source": [
    "The file contains only one object (`trainingtree` of class `TTree`)"
   ]
  },
  {
   "cell_type": "code",
   "execution_count": 5,
   "id": "e2106013-eba9-42e4-bd20-adca9ff7bd72",
   "metadata": {},
   "outputs": [
    {
     "data": {
      "text/plain": [
       "['trainingtree;1']"
      ]
     },
     "execution_count": 5,
     "metadata": {},
     "output_type": "execute_result"
    }
   ],
   "source": [
    "file.keys()"
   ]
  },
  {
   "cell_type": "markdown",
   "id": "72de7e9c-e331-4bea-a280-76d0a95fd45e",
   "metadata": {},
   "source": [
    "Each row in `trainingtree` is one event containing 64 channels [0...63]. Each channel has a waveform of 32 ADC samples `int32`[0...31], its best amplitude, time and pedestal based on traditional functional form analysis by Tim. Note the last ADC number [31] is always zero. Let's ignore it. "
   ]
  },
  {
   "cell_type": "code",
   "execution_count": 6,
   "id": "0e53ddfa-b302-4f1a-abe2-a8bb5b657ebe",
   "metadata": {},
   "outputs": [
    {
     "data": {
      "text/plain": [
       "['eventnumber', 'train_amplitude', 'train_time', 'train_pedestal', 'waveform']"
      ]
     },
     "execution_count": 6,
     "metadata": {},
     "output_type": "execute_result"
    }
   ],
   "source": [
    "trainingtree = file[\"trainingtree\"]\n",
    "trainingtree.keys()"
   ]
  },
  {
   "cell_type": "code",
   "execution_count": 7,
   "id": "ab6b6890-ac2b-436c-9649-81a254fc744f",
   "metadata": {},
   "outputs": [
    {
     "name": "stdout",
     "output_type": "stream",
     "text": [
      "name                 | typename                 | interpretation                \n",
      "---------------------+--------------------------+-------------------------------\n",
      "eventnumber          | int32_t                  | AsDtype('>i4')\n",
      "train_amplitude      | float[64]                | AsDtype(\"('>f4', (64,))\")\n",
      "train_time           | float[64]                | AsDtype(\"('>f4', (64,))\")\n",
      "train_pedestal       | float[64]                | AsDtype(\"('>f4', (64,))\")\n",
      "waveform             | int32_t[64][32]          | AsDtype(\"('>i4', (64, 32))\")\n"
     ]
    }
   ],
   "source": [
    "trainingtree.show()"
   ]
  },
  {
   "cell_type": "markdown",
   "id": "35d53a2e-b21f-4482-bdab-7d5b2042548e",
   "metadata": {},
   "source": [
    "# Sample ADC content\n",
    "\n",
    "We can dump the TTree content into a `np.array` or dataframe in various ways using [`uproot`](https://uproot.readthedocs.io/en/latest/basic.html): "
   ]
  },
  {
   "cell_type": "code",
   "execution_count": 8,
   "id": "29fff7f1-0f22-45e5-925c-17c500d2a9a0",
   "metadata": {},
   "outputs": [
    {
     "data": {
      "text/html": [
       "<div>\n",
       "<style scoped>\n",
       "    .dataframe tbody tr th:only-of-type {\n",
       "        vertical-align: middle;\n",
       "    }\n",
       "\n",
       "    .dataframe tbody tr th {\n",
       "        vertical-align: top;\n",
       "    }\n",
       "\n",
       "    .dataframe thead th {\n",
       "        text-align: right;\n",
       "    }\n",
       "</style>\n",
       "<table border=\"1\" class=\"dataframe\">\n",
       "  <thead>\n",
       "    <tr style=\"text-align: right;\">\n",
       "      <th></th>\n",
       "      <th>[0][0]</th>\n",
       "      <th>[0][1]</th>\n",
       "      <th>[0][2]</th>\n",
       "      <th>[0][3]</th>\n",
       "      <th>[0][4]</th>\n",
       "      <th>[0][5]</th>\n",
       "      <th>[0][6]</th>\n",
       "      <th>[0][7]</th>\n",
       "      <th>[0][8]</th>\n",
       "      <th>[0][9]</th>\n",
       "      <th>...</th>\n",
       "      <th>[63][22]</th>\n",
       "      <th>[63][23]</th>\n",
       "      <th>[63][24]</th>\n",
       "      <th>[63][25]</th>\n",
       "      <th>[63][26]</th>\n",
       "      <th>[63][27]</th>\n",
       "      <th>[63][28]</th>\n",
       "      <th>[63][29]</th>\n",
       "      <th>[63][30]</th>\n",
       "      <th>[63][31]</th>\n",
       "    </tr>\n",
       "  </thead>\n",
       "  <tbody>\n",
       "    <tr>\n",
       "      <th>0</th>\n",
       "      <td>1646</td>\n",
       "      <td>1642</td>\n",
       "      <td>1641</td>\n",
       "      <td>1645</td>\n",
       "      <td>1647</td>\n",
       "      <td>1645</td>\n",
       "      <td>1645</td>\n",
       "      <td>1643</td>\n",
       "      <td>1646</td>\n",
       "      <td>1646</td>\n",
       "      <td>...</td>\n",
       "      <td>1532</td>\n",
       "      <td>1531</td>\n",
       "      <td>1534</td>\n",
       "      <td>1535</td>\n",
       "      <td>1535</td>\n",
       "      <td>1533</td>\n",
       "      <td>1532</td>\n",
       "      <td>1534</td>\n",
       "      <td>1526</td>\n",
       "      <td>0</td>\n",
       "    </tr>\n",
       "    <tr>\n",
       "      <th>1</th>\n",
       "      <td>1647</td>\n",
       "      <td>1647</td>\n",
       "      <td>1647</td>\n",
       "      <td>1645</td>\n",
       "      <td>1647</td>\n",
       "      <td>1642</td>\n",
       "      <td>1648</td>\n",
       "      <td>1645</td>\n",
       "      <td>1647</td>\n",
       "      <td>1644</td>\n",
       "      <td>...</td>\n",
       "      <td>1537</td>\n",
       "      <td>1536</td>\n",
       "      <td>1531</td>\n",
       "      <td>1538</td>\n",
       "      <td>1537</td>\n",
       "      <td>1537</td>\n",
       "      <td>1535</td>\n",
       "      <td>1534</td>\n",
       "      <td>1534</td>\n",
       "      <td>0</td>\n",
       "    </tr>\n",
       "  </tbody>\n",
       "</table>\n",
       "<p>2 rows × 2048 columns</p>\n",
       "</div>"
      ],
      "text/plain": [
       "   [0][0]  [0][1]  [0][2]  [0][3]  [0][4]  [0][5]  [0][6]  [0][7]  [0][8]  \\\n",
       "0    1646    1642    1641    1645    1647    1645    1645    1643    1646   \n",
       "1    1647    1647    1647    1645    1647    1642    1648    1645    1647   \n",
       "\n",
       "   [0][9]  ...  [63][22]  [63][23]  [63][24]  [63][25]  [63][26]  [63][27]  \\\n",
       "0    1646  ...      1532      1531      1534      1535      1535      1533   \n",
       "1    1644  ...      1537      1536      1531      1538      1537      1537   \n",
       "\n",
       "   [63][28]  [63][29]  [63][30]  [63][31]  \n",
       "0      1532      1534      1526         0  \n",
       "1      1535      1534      1534         0  \n",
       "\n",
       "[2 rows x 2048 columns]"
      ]
     },
     "execution_count": 8,
     "metadata": {},
     "output_type": "execute_result"
    }
   ],
   "source": [
    "df_waveform = trainingtree[\"waveform\"].array(library=\"pd\")\n",
    "df_waveform"
   ]
  },
  {
   "cell_type": "code",
   "execution_count": 9,
   "id": "85a64af2-3e00-4f10-b288-ac0d4906ec9b",
   "metadata": {},
   "outputs": [
    {
     "data": {
      "text/plain": [
       "array([[ 5.25148344e+00,  6.59244967e+00,  3.34370255e+00,\n",
       "        -1.50078738e+00,  1.34611130e+00,  3.84263253e+00,\n",
       "         3.60258961e+00,  6.33303118e+00,  2.13221335e+00,\n",
       "         4.95701742e+00,  9.36920452e+00,  4.24166632e+00,\n",
       "         5.94443703e+00,  2.57152915e+00,  2.11203194e+00,\n",
       "         2.11096215e+00,  5.90936136e+00,  1.56662405e+00,\n",
       "         9.51362705e+00,  1.09906883e+01,  9.70515537e+00,\n",
       "         3.16336250e+00,  6.05885172e+00,  5.60935640e+00,\n",
       "         1.00729716e+00,  2.60155463e+00,  5.47631598e+00,\n",
       "         2.22471046e+01,  3.48244705e+01,  1.08486261e+01,\n",
       "         4.74036026e+00,  3.84862399e+00,  1.91584730e+00,\n",
       "         2.32603054e+01,  6.12836990e+01,  1.09103027e+03,\n",
       "         2.47668262e+03,  4.63215981e+01,  2.54767876e+01,\n",
       "         3.42087197e+00,  2.90445185e+00,  5.66758680e+00,\n",
       "         1.46544714e+01,  9.76456909e+01,  1.60664093e+02,\n",
       "         4.64428253e+01,  2.92674708e+00,  2.84963012e+00,\n",
       "         2.89870358e+00,  7.24932957e+00,  2.25674891e+00,\n",
       "         1.51697779e+01,  6.94509583e+01,  0.00000000e+00,\n",
       "         4.71208572e+00,  3.77844262e+00,  5.15156603e+00,\n",
       "         3.09646916e+00,  3.53240395e+00,  2.94715023e+00,\n",
       "         5.00882912e+00,  6.15853012e-01,  3.32536411e+00,\n",
       "         4.65256023e+00],\n",
       "       [ 5.19020891e+00,  4.76147461e+00,  1.86135521e+01,\n",
       "         7.68706656e+00,  4.48891211e+00,  1.46143615e+00,\n",
       "         0.00000000e+00,  6.39516783e+00,  5.43084621e+00,\n",
       "         2.11792850e+00,  2.54517078e+00,  6.69430113e+00,\n",
       "         1.55239151e+02,  8.71537304e+00,  2.88506627e+00,\n",
       "         6.21894121e+00,  4.52706194e+00,  4.57162523e+00,\n",
       "         4.49147224e+00,  3.28943054e+02,  5.75797607e+02,\n",
       "         1.52454090e+01,  3.35876203e+00,  2.66361666e+00,\n",
       "         4.69143581e+00,  4.36944294e+00,  1.08715363e+01,\n",
       "         8.10390091e+01,  1.37058191e+03,  3.87413597e+01,\n",
       "         1.47905235e+01,  1.75035226e+00,  4.07256460e+00,\n",
       "        -2.92961884e+00,  2.65518608e+01,  3.11853943e+02,\n",
       "         2.54611523e+03,  1.02732025e+02,  3.11052680e+00,\n",
       "         1.04584007e+01,  5.78787565e+00,  8.41991901e+00,\n",
       "         1.04949331e+01,  5.50107117e+01,  9.66109848e+01,\n",
       "         6.19372368e+01,  9.23685169e+00,  2.12825370e+00,\n",
       "         3.95909715e+00,  8.12821484e+00,  7.18415785e+00,\n",
       "         2.03454423e+00,  4.36351728e+00,  2.31549859e+00,\n",
       "         8.35826683e+00,  2.50144243e+00,  0.00000000e+00,\n",
       "         6.68006134e+00,  4.27978230e+00,  5.41020870e+00,\n",
       "         3.29785776e+00,  5.92588806e+00,  6.65914345e+00,\n",
       "         3.06474662e+00]], dtype=float32)"
      ]
     },
     "execution_count": 9,
     "metadata": {},
     "output_type": "execute_result"
    }
   ],
   "source": [
    "array_train_amplitude = trainingtree[\"train_amplitude\"].array(library=\"np\")\n",
    "array_train_amplitude"
   ]
  },
  {
   "cell_type": "code",
   "execution_count": 10,
   "id": "949b2767-242e-45f5-84b2-effc7e69cf3e",
   "metadata": {},
   "outputs": [
    {
     "data": {
      "text/plain": [
       "array([[[1646, 1642, 1641, ..., 1648, 1647,    0],\n",
       "        [1690, 1685, 1685, ..., 1690, 1687,    0],\n",
       "        [1559, 1562, 1565, ..., 1564, 1567,    0],\n",
       "        ...,\n",
       "        [1560, 1555, 1562, ..., 1562, 1561,    0],\n",
       "        [1519, 1521, 1519, ..., 1521, 1519,    0],\n",
       "        [1533, 1536, 1535, ..., 1534, 1526,    0]],\n",
       "\n",
       "       [[1647, 1647, 1647, ..., 1649, 1648,    0],\n",
       "        [1686, 1684, 1687, ..., 1688, 1687,    0],\n",
       "        [1567, 1570, 1562, ..., 1570, 1568,    0],\n",
       "        ...,\n",
       "        [1561, 1556, 1558, ..., 1562, 1562,    0],\n",
       "        [1517, 1518, 1521, ..., 1522, 1524,    0],\n",
       "        [1536, 1534, 1533, ..., 1534, 1534,    0]]], dtype=int32)"
      ]
     },
     "execution_count": 10,
     "metadata": {},
     "output_type": "execute_result"
    }
   ],
   "source": [
    "array_waveform = trainingtree[\"waveform\"].array(library=\"np\")\n",
    "array_waveform"
   ]
  },
  {
   "cell_type": "code",
   "execution_count": 11,
   "id": "4e4fafab-6827-4865-a9ff-4a52a88683ae",
   "metadata": {},
   "outputs": [
    {
     "data": {
      "text/html": [
       "<div>\n",
       "<style scoped>\n",
       "    .dataframe tbody tr th:only-of-type {\n",
       "        vertical-align: middle;\n",
       "    }\n",
       "\n",
       "    .dataframe tbody tr th {\n",
       "        vertical-align: top;\n",
       "    }\n",
       "\n",
       "    .dataframe thead th {\n",
       "        text-align: right;\n",
       "    }\n",
       "</style>\n",
       "<table border=\"1\" class=\"dataframe\">\n",
       "  <thead>\n",
       "    <tr style=\"text-align: right;\">\n",
       "      <th></th>\n",
       "      <th>train_amplitude[0]</th>\n",
       "      <th>train_amplitude[1]</th>\n",
       "      <th>train_amplitude[2]</th>\n",
       "      <th>train_amplitude[3]</th>\n",
       "      <th>train_amplitude[4]</th>\n",
       "      <th>train_amplitude[5]</th>\n",
       "      <th>train_amplitude[6]</th>\n",
       "      <th>train_amplitude[7]</th>\n",
       "      <th>train_amplitude[8]</th>\n",
       "      <th>train_amplitude[9]</th>\n",
       "      <th>...</th>\n",
       "      <th>waveform[63][22]</th>\n",
       "      <th>waveform[63][23]</th>\n",
       "      <th>waveform[63][24]</th>\n",
       "      <th>waveform[63][25]</th>\n",
       "      <th>waveform[63][26]</th>\n",
       "      <th>waveform[63][27]</th>\n",
       "      <th>waveform[63][28]</th>\n",
       "      <th>waveform[63][29]</th>\n",
       "      <th>waveform[63][30]</th>\n",
       "      <th>waveform[63][31]</th>\n",
       "    </tr>\n",
       "  </thead>\n",
       "  <tbody>\n",
       "    <tr>\n",
       "      <th>0</th>\n",
       "      <td>5.251483</td>\n",
       "      <td>6.592450</td>\n",
       "      <td>3.343703</td>\n",
       "      <td>-1.500787</td>\n",
       "      <td>1.346111</td>\n",
       "      <td>3.842633</td>\n",
       "      <td>3.60259</td>\n",
       "      <td>6.333031</td>\n",
       "      <td>2.132213</td>\n",
       "      <td>4.957017</td>\n",
       "      <td>...</td>\n",
       "      <td>1532</td>\n",
       "      <td>1531</td>\n",
       "      <td>1534</td>\n",
       "      <td>1535</td>\n",
       "      <td>1535</td>\n",
       "      <td>1533</td>\n",
       "      <td>1532</td>\n",
       "      <td>1534</td>\n",
       "      <td>1526</td>\n",
       "      <td>0</td>\n",
       "    </tr>\n",
       "    <tr>\n",
       "      <th>1</th>\n",
       "      <td>5.190209</td>\n",
       "      <td>4.761475</td>\n",
       "      <td>18.613552</td>\n",
       "      <td>7.687067</td>\n",
       "      <td>4.488912</td>\n",
       "      <td>1.461436</td>\n",
       "      <td>0.00000</td>\n",
       "      <td>6.395168</td>\n",
       "      <td>5.430846</td>\n",
       "      <td>2.117929</td>\n",
       "      <td>...</td>\n",
       "      <td>1537</td>\n",
       "      <td>1536</td>\n",
       "      <td>1531</td>\n",
       "      <td>1538</td>\n",
       "      <td>1537</td>\n",
       "      <td>1537</td>\n",
       "      <td>1535</td>\n",
       "      <td>1534</td>\n",
       "      <td>1534</td>\n",
       "      <td>0</td>\n",
       "    </tr>\n",
       "  </tbody>\n",
       "</table>\n",
       "<p>2 rows × 2176 columns</p>\n",
       "</div>"
      ],
      "text/plain": [
       "   train_amplitude[0]  train_amplitude[1]  train_amplitude[2]  \\\n",
       "0            5.251483            6.592450            3.343703   \n",
       "1            5.190209            4.761475           18.613552   \n",
       "\n",
       "   train_amplitude[3]  train_amplitude[4]  train_amplitude[5]  \\\n",
       "0           -1.500787            1.346111            3.842633   \n",
       "1            7.687067            4.488912            1.461436   \n",
       "\n",
       "   train_amplitude[6]  train_amplitude[7]  train_amplitude[8]  \\\n",
       "0             3.60259            6.333031            2.132213   \n",
       "1             0.00000            6.395168            5.430846   \n",
       "\n",
       "   train_amplitude[9]  ...  waveform[63][22]  waveform[63][23]  \\\n",
       "0            4.957017  ...              1532              1531   \n",
       "1            2.117929  ...              1537              1536   \n",
       "\n",
       "   waveform[63][24]  waveform[63][25]  waveform[63][26]  waveform[63][27]  \\\n",
       "0              1534              1535              1535              1533   \n",
       "1              1531              1538              1537              1537   \n",
       "\n",
       "   waveform[63][28]  waveform[63][29]  waveform[63][30]  waveform[63][31]  \n",
       "0              1532              1534              1526                 0  \n",
       "1              1535              1534              1534                 0  \n",
       "\n",
       "[2 rows x 2176 columns]"
      ]
     },
     "execution_count": 11,
     "metadata": {},
     "output_type": "execute_result"
    }
   ],
   "source": [
    "trainingtree.arrays([\"train_amplitude\", \"train_time\", \"waveform\"], library=\"pd\")"
   ]
  },
  {
   "cell_type": "code",
   "execution_count": 12,
   "id": "b040ebb5-43d4-4f57-a904-e7e181614b60",
   "metadata": {},
   "outputs": [
    {
     "data": {
      "image/png": "[encoded data removed]",
      "text/plain": [
       "<Figure size 748.8x514.8 with 1 Axes>"
      ]
     },
     "metadata": {
      "needs_background": "light"
     },
     "output_type": "display_data"
    }
   ],
   "source": [
    "for event_adc_array in array_waveform:\n",
    "    for adc_array in event_adc_array:\n",
    "#         print (adc_array)\n",
    "    \n",
    "        # plot lines\n",
    "        plt.plot(adc_array[:31])\n",
    "        \n",
    "\n",
    "plt.title(\"Example data file\")\n",
    "plt.xlabel(\"ADC sample [0...30]\")\n",
    "plt.ylabel(\"ADC value [14 bit integer]\")\n",
    "plt.show()"
   ]
  },
  {
   "cell_type": "code",
   "execution_count": null,
   "id": "2a4b85f1-9e49-4dca-b4b9-7f8a34fe663c",
   "metadata": {},
   "outputs": [],
   "source": []
  }
 ],
 "metadata": {
  "kernelspec": {
   "display_name": "Python (sPHENIX)",
   "language": "python",
   "name": "sphenix-env"
  },
  "language_info": {
   "codemirror_mode": {
    "name": "ipython",
    "version": 3
   },
   "file_extension": ".py",
   "mimetype": "text/x-python",
   "name": "python",
   "nbconvert_exporter": "python",
   "pygments_lexer": "ipython3",
   "version": "3.8.0"
  }
 },
 "nbformat": 4,
 "nbformat_minor": 5
}
